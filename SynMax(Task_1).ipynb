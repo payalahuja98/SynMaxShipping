{
  "nbformat": 4,
  "nbformat_minor": 0,
  "metadata": {
    "colab": {
      "name": "SynMax(Task 1).ipynb",
      "provenance": [],
      "collapsed_sections": []
    },
    "kernelspec": {
      "name": "python3",
      "display_name": "Python 3"
    },
    "language_info": {
      "name": "python"
    }
  },
  "cells": [
    {
      "cell_type": "code",
      "metadata": {
        "id": "mZmp6R5ksnyW",
        "colab": {
          "base_uri": "https://localhost:8080/",
          "height": 417
        },
        "outputId": "60a7980b-d9e9-46db-dd0c-582493bf373e"
      },
      "source": [
        "import pandas as pd\n",
        "\n",
        "ports = pd.read_csv(\"./ports.csv\", sep='\\t')\n",
        "tracking = pd.read_csv(\"./tracking.csv\", sep=\"\\t\")\n",
        "tracking"
      ],
      "execution_count": null,
      "outputs": [
        {
          "output_type": "execute_result",
          "data": {
            "text/html": [
              "<div>\n",
              "<style scoped>\n",
              "    .dataframe tbody tr th:only-of-type {\n",
              "        vertical-align: middle;\n",
              "    }\n",
              "\n",
              "    .dataframe tbody tr th {\n",
              "        vertical-align: top;\n",
              "    }\n",
              "\n",
              "    .dataframe thead th {\n",
              "        text-align: right;\n",
              "    }\n",
              "</style>\n",
              "<table border=\"1\" class=\"dataframe\">\n",
              "  <thead>\n",
              "    <tr style=\"text-align: right;\">\n",
              "      <th></th>\n",
              "      <th>vessel</th>\n",
              "      <th>datetime</th>\n",
              "      <th>lat</th>\n",
              "      <th>long</th>\n",
              "      <th>heading</th>\n",
              "      <th>speed</th>\n",
              "      <th>draft</th>\n",
              "    </tr>\n",
              "  </thead>\n",
              "  <tbody>\n",
              "    <tr>\n",
              "      <th>0</th>\n",
              "      <td>1</td>\n",
              "      <td>4/21/2019 12:49</td>\n",
              "      <td>-69.844458</td>\n",
              "      <td>13.256915</td>\n",
              "      <td>268.0</td>\n",
              "      <td>0.1</td>\n",
              "      <td>7.800</td>\n",
              "    </tr>\n",
              "    <tr>\n",
              "      <th>1</th>\n",
              "      <td>2</td>\n",
              "      <td>5/27/2019 7:15</td>\n",
              "      <td>-56.516713</td>\n",
              "      <td>-67.264773</td>\n",
              "      <td>118.0</td>\n",
              "      <td>16.1</td>\n",
              "      <td>9.500</td>\n",
              "    </tr>\n",
              "    <tr>\n",
              "      <th>2</th>\n",
              "      <td>2</td>\n",
              "      <td>5/15/2019 4:18</td>\n",
              "      <td>-56.507373</td>\n",
              "      <td>-66.961833</td>\n",
              "      <td>246.0</td>\n",
              "      <td>13.2</td>\n",
              "      <td>11.199</td>\n",
              "    </tr>\n",
              "    <tr>\n",
              "      <th>3</th>\n",
              "      <td>3</td>\n",
              "      <td>9/9/2019 2:43</td>\n",
              "      <td>-56.438527</td>\n",
              "      <td>-67.176253</td>\n",
              "      <td>258.0</td>\n",
              "      <td>17.8</td>\n",
              "      <td>11.400</td>\n",
              "    </tr>\n",
              "    <tr>\n",
              "      <th>4</th>\n",
              "      <td>2</td>\n",
              "      <td>5/27/2019 8:50</td>\n",
              "      <td>-56.383307</td>\n",
              "      <td>-66.600653</td>\n",
              "      <td>66.0</td>\n",
              "      <td>10.8</td>\n",
              "      <td>9.500</td>\n",
              "    </tr>\n",
              "    <tr>\n",
              "      <th>...</th>\n",
              "      <td>...</td>\n",
              "      <td>...</td>\n",
              "      <td>...</td>\n",
              "      <td>...</td>\n",
              "      <td>...</td>\n",
              "      <td>...</td>\n",
              "      <td>...</td>\n",
              "    </tr>\n",
              "    <tr>\n",
              "      <th>802663</th>\n",
              "      <td>62</td>\n",
              "      <td>10/15/2019 3:28</td>\n",
              "      <td>73.868687</td>\n",
              "      <td>70.932767</td>\n",
              "      <td>83.0</td>\n",
              "      <td>7.8</td>\n",
              "      <td>11.400</td>\n",
              "    </tr>\n",
              "    <tr>\n",
              "      <th>802664</th>\n",
              "      <td>62</td>\n",
              "      <td>9/24/2019 20:38</td>\n",
              "      <td>73.868730</td>\n",
              "      <td>70.630372</td>\n",
              "      <td>89.0</td>\n",
              "      <td>11.6</td>\n",
              "      <td>9.200</td>\n",
              "    </tr>\n",
              "    <tr>\n",
              "      <th>802665</th>\n",
              "      <td>62</td>\n",
              "      <td>9/28/2019 2:54</td>\n",
              "      <td>73.870265</td>\n",
              "      <td>70.716972</td>\n",
              "      <td>272.0</td>\n",
              "      <td>15.9</td>\n",
              "      <td>9.300</td>\n",
              "    </tr>\n",
              "    <tr>\n",
              "      <th>802666</th>\n",
              "      <td>62</td>\n",
              "      <td>9/28/2019 2:55</td>\n",
              "      <td>73.870287</td>\n",
              "      <td>70.702728</td>\n",
              "      <td>272.0</td>\n",
              "      <td>15.9</td>\n",
              "      <td>9.300</td>\n",
              "    </tr>\n",
              "    <tr>\n",
              "      <th>802667</th>\n",
              "      <td>62</td>\n",
              "      <td>9/24/2019 21:09</td>\n",
              "      <td>73.870693</td>\n",
              "      <td>71.000980</td>\n",
              "      <td>92.0</td>\n",
              "      <td>11.9</td>\n",
              "      <td>9.199</td>\n",
              "    </tr>\n",
              "  </tbody>\n",
              "</table>\n",
              "<p>802668 rows × 7 columns</p>\n",
              "</div>"
            ],
            "text/plain": [
              "        vessel         datetime        lat       long  heading  speed   draft\n",
              "0            1  4/21/2019 12:49 -69.844458  13.256915    268.0    0.1   7.800\n",
              "1            2   5/27/2019 7:15 -56.516713 -67.264773    118.0   16.1   9.500\n",
              "2            2   5/15/2019 4:18 -56.507373 -66.961833    246.0   13.2  11.199\n",
              "3            3    9/9/2019 2:43 -56.438527 -67.176253    258.0   17.8  11.400\n",
              "4            2   5/27/2019 8:50 -56.383307 -66.600653     66.0   10.8   9.500\n",
              "...        ...              ...        ...        ...      ...    ...     ...\n",
              "802663      62  10/15/2019 3:28  73.868687  70.932767     83.0    7.8  11.400\n",
              "802664      62  9/24/2019 20:38  73.868730  70.630372     89.0   11.6   9.200\n",
              "802665      62   9/28/2019 2:54  73.870265  70.716972    272.0   15.9   9.300\n",
              "802666      62   9/28/2019 2:55  73.870287  70.702728    272.0   15.9   9.300\n",
              "802667      62  9/24/2019 21:09  73.870693  71.000980     92.0   11.9   9.199\n",
              "\n",
              "[802668 rows x 7 columns]"
            ]
          },
          "metadata": {
            "tags": []
          },
          "execution_count": 97
        }
      ]
    },
    {
      "cell_type": "code",
      "metadata": {
        "id": "eGuiwfyZ0-Vk"
      },
      "source": [
        "tracking = tracking.loc[tracking['speed'] == 0]\n",
        "tracking['datetime'] = pd.to_datetime(tracking['datetime'], infer_datetime_format=True)\n",
        "tracking = tracking.sort_values(by=\"datetime\")"
      ],
      "execution_count": null,
      "outputs": []
    },
    {
      "cell_type": "code",
      "metadata": {
        "id": "yEq6-FGJEOjl"
      },
      "source": [
        "ports_tol = pd.read_csv('./ports_tol.csv')\n",
        "tol = ports_tol.set_index('port').to_dict()['variance']"
      ],
      "execution_count": null,
      "outputs": []
    },
    {
      "cell_type": "code",
      "metadata": {
        "colab": {
          "base_uri": "https://localhost:8080/"
        },
        "id": "3WytgVlaRTKz",
        "outputId": "58572066-9b7c-4a21-f494-bd494325416b"
      },
      "source": [
        "len(tol)"
      ],
      "execution_count": null,
      "outputs": [
        {
          "output_type": "execute_result",
          "data": {
            "text/plain": [
              "42"
            ]
          },
          "metadata": {
            "tags": []
          },
          "execution_count": 101
        }
      ]
    },
    {
      "cell_type": "code",
      "metadata": {
        "id": "BO93ya8s29PY"
      },
      "source": [
        "import sys\n",
        "\n",
        "output = pd.DataFrame(columns=['vessel','datetime','port','lat','long'])\n",
        "\n",
        "for i, rowV in tracking.iterrows(): \n",
        "\n",
        "  minDist = sys.maxsize\n",
        "  vessel = rowV['vessel']\n",
        "  lat = rowV['lat']\n",
        "  long = rowV['long']\n",
        "  date = rowV['datetime']\n",
        "\n",
        "  for j, rowP in ports.iterrows():\n",
        "    if rowP['port'] in tol.keys():\n",
        "      t = tol[rowP['port']]\n",
        "    else:\n",
        "      t = 0.03\n",
        "\n",
        "    if abs(long - rowP['long']) + abs(lat - rowP['lat']) <= t:\n",
        "      if abs(long - rowP['long']) + abs(lat - rowP['lat']) < minDist:\n",
        "        minDist = abs(long - rowP['long']) + abs(lat - rowP['lat'])\n",
        "        port = rowP['port']\n",
        "        data=[vessel, date, port, lat, long]\n",
        "        output.loc[i] = (data)"
      ],
      "execution_count": null,
      "outputs": []
    },
    {
      "cell_type": "code",
      "metadata": {
        "id": "V0QsaZa7lxAC"
      },
      "source": [
        "output = output.sort_values(by=['vessel','datetime'])"
      ],
      "execution_count": null,
      "outputs": []
    },
    {
      "cell_type": "code",
      "metadata": {
        "id": "CW7jmS-BQuHq"
      },
      "source": [
        "output.to_csv(\"output.csv\", index=False)\n"
      ],
      "execution_count": null,
      "outputs": []
    },
    {
      "cell_type": "code",
      "metadata": {
        "id": "l2O-xeOuwKFb"
      },
      "source": [
        "voyages = pd.DataFrame(columns=['vessel', 'begin_date', 'end_date', 'begin_port_id', 'end_port_id'])\n",
        "vessel = output['vessel'].iloc[0]\n",
        "begin_port_id = output['port'].iloc[0]\n",
        "begin_date = output['datetime'].iloc[0]\n",
        "\n",
        "for i in range(len(output) - 1):\n",
        "  if output['vessel'].iloc[i+1] != output['vessel'].iloc[i]:\n",
        "    vessel = output['vessel'].iloc[i+1]\n",
        "\n",
        "  if output['port'].iloc[i+1] != output['port'].iloc[i] and output['datetime'].iloc[i] < output['datetime'].iloc[i+1]: \n",
        "    begin_date = output['datetime'].iloc[i]\n",
        "    begin_port_id = output['port'].iloc[i]\n",
        "    end_date = output['datetime'].iloc[i+1]\n",
        "    end_port_id = output['port'].iloc[i+1]\n",
        "    voyages.loc[i] = [vessel, begin_date, end_date, begin_port_id, end_port_id]\n",
        "    \n",
        "    \n",
        "\n",
        "  \n",
        "\n",
        "  "
      ],
      "execution_count": null,
      "outputs": []
    },
    {
      "cell_type": "code",
      "metadata": {
        "id": "LS-JrspeOCBi"
      },
      "source": [
        "voyages = voyages.sort_values(by=['vessel','begin_date'])"
      ],
      "execution_count": null,
      "outputs": []
    },
    {
      "cell_type": "code",
      "metadata": {
        "id": "Nd6tbAajzMpJ"
      },
      "source": [
        "voyages.to_csv(\"voyages.csv\", index=False)"
      ],
      "execution_count": null,
      "outputs": []
    }
  ]
}