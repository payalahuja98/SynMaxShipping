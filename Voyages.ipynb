{
  "nbformat": 4,
  "nbformat_minor": 0,
  "metadata": {
    "colab": {
      "name": "SynMax.ipynb",
      "provenance": [],
      "authorship_tag": "ABX9TyMSARM+algHhcsFqoCA1KHr",
      "include_colab_link": true
    },
    "kernelspec": {
      "name": "python3",
      "display_name": "Python 3"
    },
    "language_info": {
      "name": "python"
    }
  },
  "cells": [
    {
      "cell_type": "markdown",
      "metadata": {
        "id": "view-in-github",
        "colab_type": "text"
      },
      "source": [
        "<a href=\"https://colab.research.google.com/github/payalahuja98/SynMaxShipping/blob/main/Voyages.ipynb\" target=\"_parent\"><img src=\"https://colab.research.google.com/assets/colab-badge.svg\" alt=\"Open In Colab\"/></a>"
      ]
    },
    {
      "cell_type": "code",
      "metadata": {
        "id": "mZmp6R5ksnyW"
      },
      "source": [
        "import pandas as pd\n",
        "\n",
        "ports = pd.read_csv(\"./ports.csv\", sep='\\t')\n",
        "tracking = pd.read_csv(\"./tracking.csv\", sep=\"\\t\")"
      ],
      "execution_count": 138,
      "outputs": []
    },
    {
      "cell_type": "code",
      "metadata": {
        "colab": {
          "base_uri": "https://localhost:8080/",
          "height": 417
        },
        "id": "eGuiwfyZ0-Vk",
        "outputId": "ac35b386-6572-44ae-b2a4-35cb856ed319"
      },
      "source": [
        "tracking = tracking.loc[tracking['speed'] == 0]\n",
        "tracking['datetime'] = pd.to_datetime(tracking['datetime'], infer_datetime_format=True)\n",
        "tracking = tracking.sort_values(by=\"datetime\")\n",
        "tracking"
      ],
      "execution_count": 149,
      "outputs": [
        {
          "output_type": "execute_result",
          "data": {
            "text/html": [
              "<div>\n",
              "<style scoped>\n",
              "    .dataframe tbody tr th:only-of-type {\n",
              "        vertical-align: middle;\n",
              "    }\n",
              "\n",
              "    .dataframe tbody tr th {\n",
              "        vertical-align: top;\n",
              "    }\n",
              "\n",
              "    .dataframe thead th {\n",
              "        text-align: right;\n",
              "    }\n",
              "</style>\n",
              "<table border=\"1\" class=\"dataframe\">\n",
              "  <thead>\n",
              "    <tr style=\"text-align: right;\">\n",
              "      <th></th>\n",
              "      <th>vessel</th>\n",
              "      <th>datetime</th>\n",
              "      <th>lat</th>\n",
              "      <th>long</th>\n",
              "      <th>heading</th>\n",
              "      <th>speed</th>\n",
              "      <th>draft</th>\n",
              "    </tr>\n",
              "  </thead>\n",
              "  <tbody>\n",
              "    <tr>\n",
              "      <th>51666</th>\n",
              "      <td>129</td>\n",
              "      <td>2019-01-01 00:08:00</td>\n",
              "      <td>-20.587000</td>\n",
              "      <td>116.763800</td>\n",
              "      <td>331.0</td>\n",
              "      <td>0.0</td>\n",
              "      <td>9.0</td>\n",
              "    </tr>\n",
              "    <tr>\n",
              "      <th>51672</th>\n",
              "      <td>129</td>\n",
              "      <td>2019-01-01 00:08:00</td>\n",
              "      <td>-20.587000</td>\n",
              "      <td>116.763800</td>\n",
              "      <td>331.0</td>\n",
              "      <td>0.0</td>\n",
              "      <td>9.0</td>\n",
              "    </tr>\n",
              "    <tr>\n",
              "      <th>51673</th>\n",
              "      <td>129</td>\n",
              "      <td>2019-01-01 00:08:00</td>\n",
              "      <td>-20.587000</td>\n",
              "      <td>116.763800</td>\n",
              "      <td>331.0</td>\n",
              "      <td>0.0</td>\n",
              "      <td>9.0</td>\n",
              "    </tr>\n",
              "    <tr>\n",
              "      <th>51659</th>\n",
              "      <td>129</td>\n",
              "      <td>2019-01-01 00:08:00</td>\n",
              "      <td>-20.587000</td>\n",
              "      <td>116.763800</td>\n",
              "      <td>331.0</td>\n",
              "      <td>0.0</td>\n",
              "      <td>9.0</td>\n",
              "    </tr>\n",
              "    <tr>\n",
              "      <th>51671</th>\n",
              "      <td>129</td>\n",
              "      <td>2019-01-01 00:08:00</td>\n",
              "      <td>-20.587000</td>\n",
              "      <td>116.763800</td>\n",
              "      <td>331.0</td>\n",
              "      <td>0.0</td>\n",
              "      <td>9.0</td>\n",
              "    </tr>\n",
              "    <tr>\n",
              "      <th>...</th>\n",
              "      <td>...</td>\n",
              "      <td>...</td>\n",
              "      <td>...</td>\n",
              "      <td>...</td>\n",
              "      <td>...</td>\n",
              "      <td>...</td>\n",
              "      <td>...</td>\n",
              "    </tr>\n",
              "    <tr>\n",
              "      <th>630900</th>\n",
              "      <td>85</td>\n",
              "      <td>2019-12-31 21:37:00</td>\n",
              "      <td>29.743603</td>\n",
              "      <td>-93.871295</td>\n",
              "      <td>226.0</td>\n",
              "      <td>0.0</td>\n",
              "      <td>9.6</td>\n",
              "    </tr>\n",
              "    <tr>\n",
              "      <th>742448</th>\n",
              "      <td>23</td>\n",
              "      <td>2019-12-31 21:39:00</td>\n",
              "      <td>36.999720</td>\n",
              "      <td>126.780920</td>\n",
              "      <td>129.0</td>\n",
              "      <td>0.0</td>\n",
              "      <td>11.1</td>\n",
              "    </tr>\n",
              "    <tr>\n",
              "      <th>630757</th>\n",
              "      <td>85</td>\n",
              "      <td>2019-12-31 21:52:00</td>\n",
              "      <td>29.743590</td>\n",
              "      <td>-93.871295</td>\n",
              "      <td>226.0</td>\n",
              "      <td>0.0</td>\n",
              "      <td>9.6</td>\n",
              "    </tr>\n",
              "    <tr>\n",
              "      <th>742435</th>\n",
              "      <td>23</td>\n",
              "      <td>2019-12-31 21:54:00</td>\n",
              "      <td>36.999710</td>\n",
              "      <td>126.780920</td>\n",
              "      <td>129.0</td>\n",
              "      <td>0.0</td>\n",
              "      <td>11.1</td>\n",
              "    </tr>\n",
              "    <tr>\n",
              "      <th>773312</th>\n",
              "      <td>73</td>\n",
              "      <td>2019-12-31 21:54:00</td>\n",
              "      <td>43.466250</td>\n",
              "      <td>10.268600</td>\n",
              "      <td>3.0</td>\n",
              "      <td>0.0</td>\n",
              "      <td>11.4</td>\n",
              "    </tr>\n",
              "  </tbody>\n",
              "</table>\n",
              "<p>108194 rows × 7 columns</p>\n",
              "</div>"
            ],
            "text/plain": [
              "        vessel            datetime        lat  ...  heading  speed  draft\n",
              "51666      129 2019-01-01 00:08:00 -20.587000  ...    331.0    0.0    9.0\n",
              "51672      129 2019-01-01 00:08:00 -20.587000  ...    331.0    0.0    9.0\n",
              "51673      129 2019-01-01 00:08:00 -20.587000  ...    331.0    0.0    9.0\n",
              "51659      129 2019-01-01 00:08:00 -20.587000  ...    331.0    0.0    9.0\n",
              "51671      129 2019-01-01 00:08:00 -20.587000  ...    331.0    0.0    9.0\n",
              "...        ...                 ...        ...  ...      ...    ...    ...\n",
              "630900      85 2019-12-31 21:37:00  29.743603  ...    226.0    0.0    9.6\n",
              "742448      23 2019-12-31 21:39:00  36.999720  ...    129.0    0.0   11.1\n",
              "630757      85 2019-12-31 21:52:00  29.743590  ...    226.0    0.0    9.6\n",
              "742435      23 2019-12-31 21:54:00  36.999710  ...    129.0    0.0   11.1\n",
              "773312      73 2019-12-31 21:54:00  43.466250  ...      3.0    0.0   11.4\n",
              "\n",
              "[108194 rows x 7 columns]"
            ]
          },
          "metadata": {
            "tags": []
          },
          "execution_count": 149
        }
      ]
    },
    {
      "cell_type": "code",
      "metadata": {
        "id": "BO93ya8s29PY"
      },
      "source": [
        "tol = 0.02\n",
        "vessel = 0\n",
        "date = tracking['datetime']\n",
        "port = 0\n",
        "output = pd.DataFrame(columns=['vessel','datetime','port'])\n",
        "\n",
        "for i, rowV in tracking.iterrows(): \n",
        "  vessel = rowV['vessel']\n",
        "  lat = rowV['lat']\n",
        "  long = rowV['long']\n",
        "  date = rowV['datetime']\n",
        "  for j, rowP in ports.iterrows():\n",
        "    if abs(long - rowP['long']) + abs(lat - rowP['lat']) <= tol:\n",
        "      port = rowP['port']\n",
        "      data=[vessel, date, port]\n",
        "      output.loc[i] = (data)\n",
        "      break"
      ],
      "execution_count": 191,
      "outputs": []
    },
    {
      "cell_type": "code",
      "metadata": {
        "id": "V0QsaZa7lxAC"
      },
      "source": [
        "output = output.sort_values(by=['vessel','datetime'])"
      ],
      "execution_count": 196,
      "outputs": []
    },
    {
      "cell_type": "code",
      "metadata": {
        "id": "CW7jmS-BQuHq"
      },
      "source": [
        "output.to_csv(\"output.csv\", index=False)\n"
      ],
      "execution_count": 197,
      "outputs": []
    },
    {
      "cell_type": "code",
      "metadata": {
        "id": "l2O-xeOuwKFb"
      },
      "source": [
        "voyages = pd.DataFrame(columns=['vessel', 'begin_date', 'end_date', 'begin_port_id', 'end_port_id'])\n",
        "output = output.reset_index(drop=True)\n",
        "\n",
        "vessel = output['vessel'][0]\n",
        "begin_date = output['datetime'][0]\n",
        "begin_port_id = output['port'][0]\n",
        "\n",
        "for i, rowO in output.iterrows():\n",
        "  if rowO['port'] != begin_port_id:\n",
        "    if rowO['vessel'] != vessel:\n",
        "      vessel = rowO['vessel']\n",
        "\n",
        "    end_date = rowO['datetime']\n",
        "    end_port_id = rowO['port']\n",
        "    voyages.loc[i] = [vessel, begin_date, end_date, begin_port_id, end_port_id]\n",
        "    begin_date = end_date\n",
        "    begin_port_id = end_port_id\n",
        "  "
      ],
      "execution_count": 230,
      "outputs": []
    },
    {
      "cell_type": "code",
      "metadata": {
        "id": "Nd6tbAajzMpJ"
      },
      "source": [
        "voyages.to_csv(\"voyages.csv\", index=False)"
      ],
      "execution_count": 231,
      "outputs": []
    }
  ]
}