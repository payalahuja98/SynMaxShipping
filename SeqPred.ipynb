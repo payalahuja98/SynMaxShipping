{
  "nbformat": 4,
  "nbformat_minor": 0,
  "metadata": {
    "colab": {
      "name": "SeqPred.ipynb",
      "provenance": [],
      "collapsed_sections": []
    },
    "kernelspec": {
      "name": "python3",
      "display_name": "Python 3"
    },
    "language_info": {
      "name": "python"
    }
  },
  "cells": [
    {
      "cell_type": "code",
      "metadata": {
        "id": "gGHw-Xp8tpur"
      },
      "source": [
        "import pandas as pd\n",
        "from sklearn.model_selection import train_test_split\n",
        "import tensorflow as tf\n",
        "import numpy as np"
      ],
      "execution_count": 362,
      "outputs": []
    },
    {
      "cell_type": "code",
      "metadata": {
        "id": "a-tAXGTit0u4"
      },
      "source": [
        "voyages = pd.read_csv('./voyages.csv')"
      ],
      "execution_count": 363,
      "outputs": []
    },
    {
      "cell_type": "code",
      "metadata": {
        "colab": {
          "base_uri": "https://localhost:8080/"
        },
        "id": "3Wk0RZfBLVe7",
        "outputId": "0bbd25aa-b6c5-46d2-ad19-6dfe267082f2"
      },
      "source": [
        "#one-hot encoding for begin port and end port\n",
        "from sklearn.preprocessing import OneHotEncoder\n",
        "\n",
        "enc = OneHotEncoder(handle_unknown='ignore')\n",
        "X = voyages['begin_port_id'].unique()\n",
        "X = X.reshape(-1, 1)\n",
        "enc.fit(X)\n",
        "\n",
        "\n",
        "y = voyages['end_port_id'].unique()\n",
        "y = y.reshape(-1, 1)\n",
        "enc.fit(y)"
      ],
      "execution_count": 364,
      "outputs": [
        {
          "output_type": "execute_result",
          "data": {
            "text/plain": [
              "OneHotEncoder(categories='auto', drop=None, dtype=<class 'numpy.float64'>,\n",
              "              handle_unknown='ignore', sparse=True)"
            ]
          },
          "metadata": {
            "tags": []
          },
          "execution_count": 364
        }
      ]
    },
    {
      "cell_type": "code",
      "metadata": {
        "id": "nL_AWNAVBVpa"
      },
      "source": [
        "#build seq of begin ports, pad for nn\n",
        "sequences_X = voyages.groupby('vessel').begin_port_id.apply(np.array).values\n",
        "enc_sequences_X = [enc.transform(x.reshape(-1,1)).toarray() for x in sequences_X]\n",
        "padded_enc_seqs_X = tf.keras.preprocessing.sequence.pad_sequences(enc_sequences_X)"
      ],
      "execution_count": 365,
      "outputs": []
    },
    {
      "cell_type": "code",
      "metadata": {
        "id": "84PsFzJwLdV3"
      },
      "source": [
        "#build seq of end ports\n",
        "sequences_y = voyages.groupby('vessel').end_port_id.apply(np.array).values\n",
        "enc_sequences_y = [enc.transform(x.reshape(-1,1)).toarray() for x in sequences_y]\n",
        "padded_enc_seqs_y = tf.keras.preprocessing.sequence.pad_sequences(enc_sequences_y)"
      ],
      "execution_count": 366,
      "outputs": []
    },
    {
      "cell_type": "code",
      "metadata": {
        "id": "ozXf1BM0LgWN"
      },
      "source": [
        "from keras.models import Sequential\n",
        "from keras.layers import LSTM, Dense\n",
        "from keras.preprocessing.sequence import TimeseriesGenerator\n",
        "\n",
        "X_train, X_test, y_train, y_test = train_test_split(padded_enc_seqs_X, padded_enc_seqs_y, test_size=0.33, random_state=66)\n",
        "\n",
        "model = Sequential()\n",
        "model.add(\n",
        "    LSTM(\n",
        "        units=1,\n",
        "        return_sequences=True,\n",
        "        activation='relu'\n",
        "        )\n",
        ")\n",
        "model.add(Dense(1))\n",
        "model.compile(optimizer='adam', loss='binary_crossentropy', metrics='accuracy')"
      ],
      "execution_count": 367,
      "outputs": []
    },
    {
      "cell_type": "code",
      "metadata": {
        "id": "7sqfPj6WNfdv"
      },
      "source": [
        "X_train = X_train.astype('float32')\n",
        "y_train = y_train.astype('float32')\n",
        "X_test = X_test.astype('float32')\n",
        "y_test = y_test.astype('float32')"
      ],
      "execution_count": 368,
      "outputs": []
    },
    {
      "cell_type": "code",
      "metadata": {
        "colab": {
          "base_uri": "https://localhost:8080/"
        },
        "id": "AMCVhHf1Li1Z",
        "outputId": "7ae0fd7f-4467-4fc9-fee4-db179511d519"
      },
      "source": [
        "model.fit(X_train, y_train, validation_data=(X_test, y_test))"
      ],
      "execution_count": 369,
      "outputs": [
        {
          "output_type": "stream",
          "text": [
            "4/4 [==============================] - 4s 269ms/step - loss: 0.0369 - accuracy: 0.9962 - val_loss: 0.0342 - val_accuracy: 0.9963\n"
          ],
          "name": "stdout"
        },
        {
          "output_type": "execute_result",
          "data": {
            "text/plain": [
              "<keras.callbacks.History at 0x7fdb8a0da510>"
            ]
          },
          "metadata": {
            "tags": []
          },
          "execution_count": 369
        }
      ]
    },
    {
      "cell_type": "code",
      "metadata": {
        "colab": {
          "base_uri": "https://localhost:8080/"
        },
        "id": "sH-W6CtQoZha",
        "outputId": "4d667d42-b2ee-4340-f2e9-0562a070d6ee"
      },
      "source": [
        "model(X_test)"
      ],
      "execution_count": 370,
      "outputs": [
        {
          "output_type": "execute_result",
          "data": {
            "text/plain": [
              "<tf.Tensor: shape=(57, 41, 1), dtype=float32, numpy=\n",
              "array([[[-0.00109608],\n",
              "        [-0.00109608],\n",
              "        [-0.00109608],\n",
              "        ...,\n",
              "        [ 0.01197573],\n",
              "        [ 0.00825596],\n",
              "        [ 0.00550033]],\n",
              "\n",
              "       [[-0.00109608],\n",
              "        [-0.00109608],\n",
              "        [-0.00109608],\n",
              "        ...,\n",
              "        [ 0.00490368],\n",
              "        [ 0.03201151],\n",
              "        [ 0.02164739]],\n",
              "\n",
              "       [[-0.00109608],\n",
              "        [-0.00109608],\n",
              "        [-0.00109608],\n",
              "        ...,\n",
              "        [ 0.02161765],\n",
              "        [ 0.01538901],\n",
              "        [ 0.0113741 ]],\n",
              "\n",
              "       ...,\n",
              "\n",
              "       [[-0.00109608],\n",
              "        [-0.00109608],\n",
              "        [-0.00109608],\n",
              "        ...,\n",
              "        [ 0.06553254],\n",
              "        [ 0.0818387 ],\n",
              "        [ 0.06598148]],\n",
              "\n",
              "       [[-0.00109608],\n",
              "        [-0.00109608],\n",
              "        [-0.00109608],\n",
              "        ...,\n",
              "        [ 0.03691299],\n",
              "        [ 0.02626995],\n",
              "        [ 0.05777075]],\n",
              "\n",
              "       [[-0.00109608],\n",
              "        [-0.00109608],\n",
              "        [-0.00109608],\n",
              "        ...,\n",
              "        [ 0.04250115],\n",
              "        [ 0.03006133],\n",
              "        [ 0.02348615]]], dtype=float32)>"
            ]
          },
          "metadata": {
            "tags": []
          },
          "execution_count": 370
        }
      ]
    },
    {
      "cell_type": "code",
      "metadata": {
        "colab": {
          "base_uri": "https://localhost:8080/",
          "height": 611
        },
        "id": "DuyElCcbhqyP",
        "outputId": "56135475-7366-4801-cbf6-75b6eea85efd"
      },
      "source": [
        "from sklearn import preprocessing\n",
        "le = preprocessing.LabelEncoder()\n",
        "le.fit(X)\n",
        "print(le.transform(X))\n",
        "print(le.inverse_transform(X))"
      ],
      "execution_count": 373,
      "outputs": [
        {
          "output_type": "stream",
          "text": [
            "[ 89  72  20  49  65  15   4  73   2  87  23  67  35   3  93  21  79  53\n",
            "  19  51  57  58  62  22  37  81 110   1  10  38  16  69  99  83  59  61\n",
            "  13  50  12  74  64   8 104  70  32  91  25  63  47  56  28  90  44 105\n",
            "   5  17 101  60  36  76  52  85  88  30  24 116  82  97  29  78  34   9\n",
            "  66 108  39 103  54  95 115  31  68 102   6  55  33  27  18  45  40  94\n",
            "  14 117 107 113   7  75 111  41  48  46   0  86  92  26 112  77  98  84\n",
            "  42 114 118 106  96  11  71 100 109  43  80]\n"
          ],
          "name": "stdout"
        },
        {
          "output_type": "stream",
          "text": [
            "/usr/local/lib/python3.7/dist-packages/sklearn/preprocessing/_label.py:235: DataConversionWarning: A column-vector y was passed when a 1d array was expected. Please change the shape of y to (n_samples, ), for example using ravel().\n",
            "  y = column_or_1d(y, warn=True)\n",
            "/usr/local/lib/python3.7/dist-packages/sklearn/preprocessing/_label.py:268: DataConversionWarning: A column-vector y was passed when a 1d array was expected. Please change the shape of y to (n_samples, ), for example using ravel().\n",
            "  y = column_or_1d(y, warn=True)\n",
            "/usr/local/lib/python3.7/dist-packages/sklearn/preprocessing/_label.py:289: DataConversionWarning: A column-vector y was passed when a 1d array was expected. Please change the shape of y to (n_samples, ), for example using ravel().\n",
            "  y = column_or_1d(y, warn=True)\n"
          ],
          "name": "stderr"
        },
        {
          "output_type": "error",
          "ename": "ValueError",
          "evalue": "ignored",
          "traceback": [
            "\u001b[0;31m---------------------------------------------------------------------------\u001b[0m",
            "\u001b[0;31mValueError\u001b[0m                                Traceback (most recent call last)",
            "\u001b[0;32m<ipython-input-373-0aeea5b5d90d>\u001b[0m in \u001b[0;36m<module>\u001b[0;34m()\u001b[0m\n\u001b[1;32m      3\u001b[0m \u001b[0mle\u001b[0m\u001b[0;34m.\u001b[0m\u001b[0mfit\u001b[0m\u001b[0;34m(\u001b[0m\u001b[0mX\u001b[0m\u001b[0;34m)\u001b[0m\u001b[0;34m\u001b[0m\u001b[0;34m\u001b[0m\u001b[0m\n\u001b[1;32m      4\u001b[0m \u001b[0mprint\u001b[0m\u001b[0;34m(\u001b[0m\u001b[0mle\u001b[0m\u001b[0;34m.\u001b[0m\u001b[0mtransform\u001b[0m\u001b[0;34m(\u001b[0m\u001b[0mX\u001b[0m\u001b[0;34m)\u001b[0m\u001b[0;34m)\u001b[0m\u001b[0;34m\u001b[0m\u001b[0;34m\u001b[0m\u001b[0m\n\u001b[0;32m----> 5\u001b[0;31m \u001b[0mprint\u001b[0m\u001b[0;34m(\u001b[0m\u001b[0mle\u001b[0m\u001b[0;34m.\u001b[0m\u001b[0minverse_transform\u001b[0m\u001b[0;34m(\u001b[0m\u001b[0mX\u001b[0m\u001b[0;34m)\u001b[0m\u001b[0;34m)\u001b[0m\u001b[0;34m\u001b[0m\u001b[0;34m\u001b[0m\u001b[0m\n\u001b[0m",
            "\u001b[0;32m/usr/local/lib/python3.7/dist-packages/sklearn/preprocessing/_label.py\u001b[0m in \u001b[0;36minverse_transform\u001b[0;34m(self, y)\u001b[0m\n\u001b[1;32m    295\u001b[0m         \u001b[0;32mif\u001b[0m \u001b[0mlen\u001b[0m\u001b[0;34m(\u001b[0m\u001b[0mdiff\u001b[0m\u001b[0;34m)\u001b[0m\u001b[0;34m:\u001b[0m\u001b[0;34m\u001b[0m\u001b[0;34m\u001b[0m\u001b[0m\n\u001b[1;32m    296\u001b[0m             raise ValueError(\n\u001b[0;32m--> 297\u001b[0;31m                     \"y contains previously unseen labels: %s\" % str(diff))\n\u001b[0m\u001b[1;32m    298\u001b[0m         \u001b[0my\u001b[0m \u001b[0;34m=\u001b[0m \u001b[0mnp\u001b[0m\u001b[0;34m.\u001b[0m\u001b[0masarray\u001b[0m\u001b[0;34m(\u001b[0m\u001b[0my\u001b[0m\u001b[0;34m)\u001b[0m\u001b[0;34m\u001b[0m\u001b[0;34m\u001b[0m\u001b[0m\n\u001b[1;32m    299\u001b[0m         \u001b[0;32mreturn\u001b[0m \u001b[0mself\u001b[0m\u001b[0;34m.\u001b[0m\u001b[0mclasses_\u001b[0m\u001b[0;34m[\u001b[0m\u001b[0my\u001b[0m\u001b[0;34m]\u001b[0m\u001b[0;34m\u001b[0m\u001b[0;34m\u001b[0m\u001b[0m\n",
            "\u001b[0;31mValueError\u001b[0m: y contains previously unseen labels: [120. 121. 122. 123. 126. 130. 134. 136. 138. 139. 140. 141. 142. 143.\n 144. 146. 147. 148. 149. 150. 151. 152. 153. 154. 156. 157. 159. 160.\n 162. 165. 168. 169. 170. 173. 174. 175. 177. 178.]"
          ]
        }
      ]
    }
  ]
}